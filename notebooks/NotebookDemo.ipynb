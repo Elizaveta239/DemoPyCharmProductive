{
 "cells": [
  {
   "cell_type": "markdown",
   "source": [
    "## I'm a Jupyter Notebook \n",
    "\n",
    "#### You can:\n",
    "\n",
    "* Execute cells\n",
    "* Use PyCharm smart code editing inside Jupyter Notebook\n",
    "* Use Jupyter execution features inside PyCharm\n",
    "* Use Variables View\n",
    "* Debug cells"
   ],
   "metadata": {
    "collapsed": false,
    "pycharm": {
     "name": "#%% md\n"
    }
   }
  },
  {
   "cell_type": "code",
   "execution_count": 1,
   "metadata": {
    "collapsed": true,
    "pycharm": {
     "is_executing": false
    }
   },
   "outputs": [],
   "source": [
    "\n",
    "my_name = \"Earth\"\n",
    "earth_neighbors = [\"Mars\", \"Venus\"]\n",
    "print(\"Hello from Earth!\")\n"
   ]
  },
  {
   "cell_type": "markdown",
   "source": [
    "\n",
    "### Let's send greetings\n"
   ],
   "metadata": {
    "collapsed": false,
    "pycharm": {
     "name": "#%% md\n"
    }
   }
  },
  {
   "cell_type": "code",
   "execution_count": 7,
   "outputs": [],
   "source": [
    "\n",
    "def greet_neighbors(neighbors):\n",
    "    for n in neighbors:\n",
    "        print(f\"Hi {n}!\")\n",
    "    return len(neighbors)\n",
    "\n",
    "num = greet_neighbors(earth_neighbors)\n",
    "print(num)\n",
    "print(f\"I have {num} neighbors\")\n"
   ],
   "metadata": {
    "collapsed": false,
    "pycharm": {
     "name": "#%%\n",
     "is_executing": false
    }
   }
  },
  {
   "cell_type": "code",
   "execution_count": 8,
   "outputs": [],
   "source": [
    "\n",
    "jupiter_neighbors = [\"Mars\", \"Saturn\"]\n",
    "jupiter_len = greet_neighbors(jupiter_neighbors)\n",
    "print(jupiter_len)\n"
   ],
   "metadata": {
    "collapsed": false,
    "pycharm": {
     "name": "#%%\n",
     "is_executing": false
    }
   }
  },
  {
   "cell_type": "code",
   "execution_count": 5,
   "outputs": [],
   "source": [
    "\n",
    "import numpy as np\n",
    "from sci.s07_scientific import get_features_targets\n",
    "\n",
    "data = np.load('../data/sdss_galaxy_colors.npy')\n",
    "\n",
    "features, targets = get_features_targets(data)\n",
    "\n",
    "print(features)\n"
   ],
   "metadata": {
    "collapsed": false,
    "pycharm": {
     "name": "#%%\n",
     "is_executing": false
    }
   }
  },
  {
   "cell_type": "code",
   "execution_count": 8,
   "outputs": [],
   "source": [
    "\n"
   ],
   "metadata": {
    "collapsed": false,
    "pycharm": {
     "name": "#%%\n",
     "is_executing": false
    }
   }
  }
 ],
 "metadata": {
  "language_info": {
   "codemirror_mode": {
    "name": "ipython",
    "version": 2
   },
   "file_extension": ".py",
   "mimetype": "text/x-python",
   "name": "python",
   "nbconvert_exporter": "python",
   "pygments_lexer": "ipython2",
   "version": "2.7.6"
  },
  "kernelspec": {
   "name": "python3",
   "language": "python",
   "display_name": "Python 3"
  },
  "pycharm": {
   "stem_cell": {
    "cell_type": "raw",
    "source": [],
    "metadata": {
     "collapsed": false
    }
   }
  }
 },
 "nbformat": 4,
 "nbformat_minor": 0
}